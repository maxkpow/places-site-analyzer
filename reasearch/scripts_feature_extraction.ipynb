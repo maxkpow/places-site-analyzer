{
 "cells": [
  {
   "cell_type": "code",
   "execution_count": 54,
   "metadata": {},
   "outputs": [],
   "source": [
    "import requests\n",
    "from bs4 import BeautifulSoup\n",
    "import string\n",
    "import re\n",
    "from typing import Dict\n",
    "from collections import OrderedDict"
   ]
  },
  {
   "cell_type": "code",
   "execution_count": 29,
   "metadata": {},
   "outputs": [],
   "source": [
    "soup = BeautifulSoup(requests.get(\"https://www.bashneft-azs.ru/network_azs/\").text)\n",
    "scripts_list = soup.find_all(\"script\")"
   ]
  },
  {
   "cell_type": "code",
   "execution_count": 60,
   "metadata": {},
   "outputs": [],
   "source": [
    "def clean_data(content: str):\n",
    "    removed_tabs = re.sub(r'\\t+', ' ', content.lower())\n",
    "    removed_new_lines = re.sub(r'\\n+', ' ', removed_tabs)\n",
    "    removed_return = re.sub(r'\\r+', ' ', removed_new_lines)\n",
    "    removed_spaces = re.sub(r'\\s+', ' ', removed_new_lines)\n",
    "    removed_punctuation = \"\".join([symbol for symbol in removed_spaces if symbol not in string.punctuation])\n",
    "\n",
    "    tokenized_words = removed_punctuation.split(' ')\n",
    "    return tokenized_words"
   ]
  },
  {
   "cell_type": "code",
   "execution_count": 59,
   "metadata": {},
   "outputs": [],
   "source": [
    "def calculate_words(word_cloud) -> Dict[str, int]:\n",
    "    word_dict = {}\n",
    "\n",
    "    for word in word_cloud:\n",
    "        if word not in word_dict.keys():\n",
    "            word_dict[word] = 1\n",
    "        else:\n",
    "            word_dict[word] += 1\n",
    "    \n",
    "    return word_dict"
   ]
  },
  {
   "cell_type": "code",
   "execution_count": null,
   "metadata": {},
   "outputs": [],
   "source": [
    "word_stats: Dict[str, int] = calculate_words(word_cloud)\n",
    "result = sorted(word_stats.items(), key=lambda kv: kv[1], reverse=True)\n",
    "result"
   ]
  }
 ],
 "metadata": {
  "kernelspec": {
   "display_name": "Python 3.10.6 64-bit",
   "language": "python",
   "name": "python3"
  },
  "language_info": {
   "codemirror_mode": {
    "name": "ipython",
    "version": 3
   },
   "file_extension": ".py",
   "mimetype": "text/x-python",
   "name": "python",
   "nbconvert_exporter": "python",
   "pygments_lexer": "ipython3",
   "version": "3.10.6"
  },
  "orig_nbformat": 4,
  "vscode": {
   "interpreter": {
    "hash": "35e41506f5820a9dc03f8ff682bed6def4c0ee75f8213c373db6a5f8b18e0d47"
   }
  }
 },
 "nbformat": 4,
 "nbformat_minor": 2
}
